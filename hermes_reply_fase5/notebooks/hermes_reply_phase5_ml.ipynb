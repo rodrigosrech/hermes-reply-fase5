{
 "cells": [
  {
   "cell_type": "markdown",
   "id": "4268dcb8",
   "metadata": {},
   "source": [
    "# Hermes Reply – Fase 5\n",
    "\n",
    "**Contexto:** classificação binária do estado operacional (NORMAL vs ANOMALO) a partir de snapshots multivariados por máquina.\n",
    "\n",
    "**Pipeline:**\n",
    "1. Carregar `data/sensors_readings.csv`\n",
    "2. Preparar features/target\n",
    "3. Split estratificado (train/test)\n",
    "4. Baseline + Logistic Regression + Random Forest\n",
    "5. Métricas e gráficos (matriz de confusão, ROC, importância de variáveis)\n",
    "6. Conclusão e próximos passos\n"
   ]
  },
  {
   "cell_type": "code",
   "execution_count": null,
   "id": "06451068",
   "metadata": {},
   "outputs": [],
   "source": [
    "# Reprodutibilidade e imports\n",
    "import numpy as np, random\n",
    "np.random.seed(42); random.seed(42)\n",
    "\n",
    "import pandas as pd\n",
    "import matplotlib.pyplot as plt\n",
    "from sklearn.model_selection import train_test_split\n",
    "from sklearn.preprocessing import StandardScaler\n",
    "from sklearn.pipeline import Pipeline\n",
    "from sklearn.metrics import confusion_matrix, roc_curve, auc\n",
    "from sklearn.dummy import DummyClassifier\n",
    "from sklearn.linear_model import LogisticRegression\n",
    "from sklearn.ensemble import RandomForestClassifier\n",
    "\n",
    "DATA_PATH = '../data/sensors_readings.csv'\n",
    "IMG_DIR = '../img'\n"
   ]
  },
  {
   "cell_type": "code",
   "execution_count": null,
   "id": "80695562",
   "metadata": {},
   "outputs": [],
   "source": [
    "# Carregar dados\n",
    "df = pd.read_csv(DATA_PATH)\n",
    "\n",
    "print('Shape:', df.shape)\n",
    "df.head()"
   ]
  },
  {
   "cell_type": "code",
   "execution_count": null,
   "id": "ecbc7954",
   "metadata": {},
   "outputs": [],
   "source": [
    "# Preparar X e y\n",
    "X = df[['temperature_c','vibration_rms_g','pressure_bar','current_amp']].values\n",
    "y = (df['label'] == 'ANOMALO').astype(int).values\n",
    "\n",
    "X_train, X_test, y_train, y_test = train_test_split(\n",
    "    X, y, test_size=0.2, random_state=42, stratify=y\n",
    ")\n",
    "\n",
    "print('Treino:', X_train.shape, 'Teste:', X_test.shape, 'Anomalias em teste:', y_test.sum())"
   ]
  },
  {
   "cell_type": "code",
   "execution_count": null,
   "id": "ea99984e",
   "metadata": {},
   "outputs": [],
   "source": [
    "# Baseline\n",
    "baseline = DummyClassifier(strategy='most_frequent')\n",
    "baseline.fit(X_train, y_train)\n",
    "b_acc = baseline.score(X_test, y_test)\n",
    "print('Baseline accuracy:', round(b_acc, 4))"
   ]
  },
  {
   "cell_type": "code",
   "execution_count": null,
   "id": "1da0011c",
   "metadata": {},
   "outputs": [],
   "source": [
    "# Logistic Regression\n",
    "lr = Pipeline([('scaler', StandardScaler()),\n",
    "               ('clf', LogisticRegression(max_iter=500, random_state=42))])\n",
    "lr.fit(X_train, y_train)\n",
    "lr_acc = lr.score(X_test, y_test)\n",
    "lr_prob = lr.predict_proba(X_test)[:,1]\n",
    "print('LR accuracy:', round(lr_acc, 4))"
   ]
  },
  {
   "cell_type": "code",
   "execution_count": null,
   "id": "b024ec74",
   "metadata": {},
   "outputs": [],
   "source": [
    "# Random Forest\n",
    "rf = RandomForestClassifier(n_estimators=300, class_weight='balanced', random_state=42)\n",
    "rf.fit(X_train, y_train)\n",
    "rf_acc = rf.score(X_test, y_test)\n",
    "rf_prob = rf.predict_proba(X_test)[:,1]\n",
    "print('RF accuracy:', round(rf_acc, 4))"
   ]
  },
  {
   "cell_type": "code",
   "execution_count": null,
   "id": "88f7b1dd",
   "metadata": {},
   "outputs": [],
   "source": [
    "# Escolher melhor modelo (simplesmente pela acurácia)\n",
    "best_name = 'RandomForest' if rf_acc >= lr_acc else 'LogisticRegression'\n",
    "best_prob = rf_prob if best_name == 'RandomForest' else lr_prob\n",
    "best_pred = (best_prob >= 0.5).astype(int)\n",
    "print('Modelo escolhido:', best_name)"
   ]
  },
  {
   "cell_type": "code",
   "execution_count": null,
   "id": "fcb16e49",
   "metadata": {},
   "outputs": [],
   "source": [
    "# Matriz de confusão\n",
    "cm = confusion_matrix(y_test, best_pred)\n",
    "\n",
    "plt.figure(figsize=(5,4))\n",
    "plt.imshow(cm, interpolation='nearest')\n",
    "plt.title('Confusion Matrix')\n",
    "plt.xlabel('Predicted')\n",
    "plt.ylabel('True')\n",
    "for (i,j), v in np.ndenumerate(cm):\n",
    "    plt.text(j, i, str(v), ha='center', va='center')\n",
    "plt.tight_layout()\n",
    "plt.savefig(f'{IMG_DIR}/confusion_matrix.png', dpi=150)\n",
    "plt.show()"
   ]
  },
  {
   "cell_type": "code",
   "execution_count": null,
   "id": "7b981f82",
   "metadata": {},
   "outputs": [],
   "source": [
    "# Curva ROC\n",
    "fpr, tpr, _ = roc_curve(y_test, best_prob)\n",
    "roc_auc = auc(fpr, tpr)\n",
    "\n",
    "plt.figure(figsize=(5,4))\n",
    "plt.plot(fpr, tpr, label=f'AUC = {roc_auc:.3f}')\n",
    "plt.plot([0,1],[0,1], linestyle='--')\n",
    "plt.title('ROC Curve')\n",
    "plt.xlabel('False Positive Rate')\n",
    "plt.ylabel('True Positive Rate')\n",
    "plt.legend(loc='lower right')\n",
    "plt.tight_layout()\n",
    "plt.savefig(f'{IMG_DIR}/roc_curve.png', dpi=150)\n",
    "plt.show()"
   ]
  },
  {
   "cell_type": "code",
   "execution_count": null,
   "id": "10549fa0",
   "metadata": {},
   "outputs": [],
   "source": [
    "# Importância de variáveis (se RF)\n",
    "if best_name == 'RandomForest':\n",
    "    importances = rf.feature_importances_\n",
    "    plt.figure(figsize=(6,4))\n",
    "    plt.bar(range(len(importances)), importances)\n",
    "    plt.xticks(range(len(importances)), ['temperature_c','vibration_rms_g','pressure_bar','current_amp'], rotation=20)\n",
    "    plt.title('Feature Importance (RandomForest)')\n",
    "    plt.ylabel('Importance')\n",
    "    plt.tight_layout()\n",
    "    plt.savefig(f'{IMG_DIR}/feature_importance.png', dpi=150)\n",
    "    plt.show()"
   ]
  },
  {
   "cell_type": "markdown",
   "id": "ae946c05",
   "metadata": {},
   "source": [
    "## Conclusão breve\n",
    "- Treinamos um classificador binário para detectar anomalias operacionais usando 4 variáveis (temperatura, vibração, pressão e corrente).\n",
    "- Comparámos uma baseline, Regressão Logística e Random Forest, escolhendo o melhor por acurácia de teste.\n",
    "- As métricas e gráficos (matriz de confusão, ROC e, se aplicável, importância de variáveis) documentam a qualidade do modelo.\n",
    "- **Limitações:** dados simulados (não reais), possíveis vieses de geração e regra de rótulo simples. Em produção, recomenda-se validação por especialista, tuning e monitoramento.\n"
   ]
  }
 ],
 "metadata": {},
 "nbformat": 4,
 "nbformat_minor": 5
}
